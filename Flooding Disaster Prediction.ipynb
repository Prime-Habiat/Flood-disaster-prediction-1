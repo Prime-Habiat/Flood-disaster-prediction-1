{
 "cells": [
  {
   "cell_type": "code",
   "execution_count": 33,
   "id": "37719c17",
   "metadata": {},
   "outputs": [],
   "source": [
    "from pgmpy.models import BayesianModel\n",
    "from pgmpy.factors.discrete import TabularCPD"
   ]
  },
  {
   "cell_type": "code",
   "execution_count": 34,
   "id": "95e23cdb",
   "metadata": {},
   "outputs": [],
   "source": [
    "PER_UNIT_GDP = 'GDP' # 'per unit GDP'\n",
    "ROAD_DENSITY = 'RoD' # 'road density'\n",
    "POPULATION_DENSITY = 'PD' # 'population density'\n",
    "ELEVATION = 'E' # 'elevation'\n",
    "SLOPE = 'S' # 'slope'\n",
    "RAINFALL_DURATION = 'RaD' # 'rainfall duration'\n",
    "RIVER_DENSITY = 'RiD' # 'river density'\n",
    "RAINFALL_AMOUNT = 'RaA' # 'rainfall amount'\n",
    "FLOOD = 'F' # 'flood'"
   ]
  },
  {
   "cell_type": "code",
   "execution_count": 35,
   "id": "017a024a",
   "metadata": {},
   "outputs": [],
   "source": [
    "values_dictionary = {\n",
    "    PER_UNIT_GDP: [\n",
    "        [0.1], \n",
    "        [0.2], \n",
    "        [0.7]\n",
    "    ],\n",
    "    ROAD_DENSITY: [\n",
    "        [0.1, 0.1, 0.1, 0.1, 0.1, 0.1, 0.1, 0.1, 0.1],\n",
    "        [0.2, 0.2, 0.2, 0.2, 0.2, 0.2, 0.2, 0.2, 0.2],\n",
    "        [0.7, 0.7, 0.7, 0.7, 0.7, 0.7, 0.7, 0.7, 0.7]\n",
    "    ],\n",
    "    POPULATION_DENSITY: [\n",
    "        [0.1, 0.1, 0.1],\n",
    "        [0.2, 0.2, 0.2],\n",
    "        [0.7, 0.7, 0.7],\n",
    "    ],\n",
    "    ELEVATION: [\n",
    "        [0.1],\n",
    "        [0.2], \n",
    "        [0.7]\n",
    "    ],\n",
    "    SLOPE: [\n",
    "        [0.6], \n",
    "        [0.4]\n",
    "    ],\n",
    "    RAINFALL_DURATION: [\n",
    "        [0.1], \n",
    "        [0.2], \n",
    "        [0.7]\n",
    "    ],\n",
    "    RIVER_DENSITY: [\n",
    "        [0.3], \n",
    "        [0.7]\n",
    "    ],\n",
    "    RAINFALL_AMOUNT: [\n",
    "        [0.1, 0.1, 0.1, 0.1, 0.1, 0.1],\n",
    "        [0.7, 0.7, 0.7, 0.7, 0.7, 0.7],\n",
    "        [0.2, 0.2, 0.2, 0.2, 0.2, 0.2],\n",
    "    ],\n",
    "    FLOOD: [\n",
    "        [0.1, 0.1, 0.1, 0.1, 0.1, 0.1, 0.1, 0.1, 0.1, 0.1, 0.1, 0.1, 0.1, 0.1, 0.1, 0.1, 0.1, 0.1],\n",
    "        [0.2, 0.2, 0.2, 0.2, 0.2, 0.2, 0.2, 0.2, 0.2, 0.2, 0.2, 0.2, 0.2, 0.2, 0.2, 0.2, 0.2, 0.2],\n",
    "        [0.7, 0.7, 0.7, 0.7, 0.7, 0.7, 0.7, 0.7, 0.7, 0.7, 0.7, 0.7, 0.7, 0.7, 0.7, 0.7, 0.7, 0.7]\n",
    "    ],\n",
    "}"
   ]
  },
  {
   "cell_type": "code",
   "execution_count": 36,
   "id": "d411aa21",
   "metadata": {},
   "outputs": [],
   "source": [
    "table_dictionary = {\n",
    "    PER_UNIT_GDP: ['High', 'Medium', 'Low'],\n",
    "    ROAD_DENSITY: ['High', 'Medium', 'Low'],\n",
    "    POPULATION_DENSITY: ['High', 'Medium', 'Low'],\n",
    "    ELEVATION: ['High', 'Medium', 'Low'],\n",
    "    SLOPE: ['Steep', 'Flat'],\n",
    "    RAINFALL_DURATION: ['Long', 'Medium', 'Short'],\n",
    "    RIVER_DENSITY: ['Dense', 'Sparse'],\n",
    "    RAINFALL_AMOUNT: ['Huge', 'Medium', 'Little'],\n",
    "    FLOOD: ['Yes', 'No']\n",
    "}"
   ]
  },
  {
   "cell_type": "code",
   "execution_count": 37,
   "id": "991dfac4",
   "metadata": {},
   "outputs": [],
   "source": [
    "edges = [\n",
    "    (PER_UNIT_GDP, ROAD_DENSITY), \n",
    "    (PER_UNIT_GDP, POPULATION_DENSITY), \n",
    "    (POPULATION_DENSITY, ROAD_DENSITY),\n",
    "    (ROAD_DENSITY, FLOOD),\n",
    "    (ELEVATION, SLOPE),\n",
    "    (SLOPE, FLOOD),\n",
    "    (RAINFALL_DURATION, RAINFALL_AMOUNT),\n",
    "    (RIVER_DENSITY, RAINFALL_AMOUNT),\n",
    "    (RAINFALL_AMOUNT, FLOOD)\n",
    "]"
   ]
  },
  {
   "cell_type": "code",
   "execution_count": 38,
   "id": "00e2c3fa",
   "metadata": {},
   "outputs": [],
   "source": [
    "# Defining the model structure. We can define the network by just passing a list of edges.\n",
    "model = BayesianModel(edges)"
   ]
  },
  {
   "cell_type": "code",
   "execution_count": 39,
   "id": "72209a26",
   "metadata": {},
   "outputs": [],
   "source": [
    "def pick_dictionary_subset(dictionary, keys):\n",
    "    return dict((k, dictionary[k]) for k in keys if k in dictionary)"
   ]
  },
  {
   "cell_type": "code",
   "execution_count": 40,
   "id": "caef459d",
   "metadata": {},
   "outputs": [],
   "source": [
    "cpd_per_unit_gdp = TabularCPD(\n",
    "    variable = PER_UNIT_GDP, \n",
    "    variable_card = len(table_dictionary[PER_UNIT_GDP]), \n",
    "    values = values_dictionary[PER_UNIT_GDP],\n",
    "    state_names= pick_dictionary_subset(table_dictionary, [PER_UNIT_GDP])\n",
    ")\n",
    "\n",
    "\n",
    "cpd_population_density = TabularCPD(\n",
    "    variable = POPULATION_DENSITY, \n",
    "    variable_card = len(table_dictionary[POPULATION_DENSITY]), \n",
    "    values = values_dictionary[POPULATION_DENSITY],\n",
    "    evidence=[PER_UNIT_GDP],\n",
    "    evidence_card=[len(table_dictionary[PER_UNIT_GDP])],\n",
    "    state_names= pick_dictionary_subset(\n",
    "        table_dictionary, [POPULATION_DENSITY, PER_UNIT_GDP]\n",
    "    )\n",
    ")\n",
    "\n",
    "cpd_road_density = TabularCPD(\n",
    "    variable = ROAD_DENSITY, \n",
    "    variable_card = len(table_dictionary[ROAD_DENSITY]), \n",
    "    values = values_dictionary[ROAD_DENSITY],\n",
    "    evidence=[PER_UNIT_GDP, POPULATION_DENSITY],\n",
    "    evidence_card=[len(table_dictionary[PER_UNIT_GDP]), len(table_dictionary[POPULATION_DENSITY])],\n",
    "    state_names= pick_dictionary_subset(\n",
    "        table_dictionary, [ROAD_DENSITY, PER_UNIT_GDP, POPULATION_DENSITY,]\n",
    "    )\n",
    ")"
   ]
  },
  {
   "cell_type": "code",
   "execution_count": 41,
   "id": "8c72b7e0",
   "metadata": {},
   "outputs": [
    {
     "name": "stdout",
     "output_type": "stream",
     "text": [
      "+-------------+-----------+------------+-----------+-------------+-------------+-------------+----------+------------+----------+\n",
      "| GDP         | GDP(High) | GDP(High)  | GDP(High) | GDP(Medium) | GDP(Medium) | GDP(Medium) | GDP(Low) | GDP(Low)   | GDP(Low) |\n",
      "+-------------+-----------+------------+-----------+-------------+-------------+-------------+----------+------------+----------+\n",
      "| PD          | PD(High)  | PD(Medium) | PD(Low)   | PD(High)    | PD(Medium)  | PD(Low)     | PD(High) | PD(Medium) | PD(Low)  |\n",
      "+-------------+-----------+------------+-----------+-------------+-------------+-------------+----------+------------+----------+\n",
      "| RoD(High)   | 0.1       | 0.1        | 0.1       | 0.1         | 0.1         | 0.1         | 0.1      | 0.1        | 0.1      |\n",
      "+-------------+-----------+------------+-----------+-------------+-------------+-------------+----------+------------+----------+\n",
      "| RoD(Medium) | 0.2       | 0.2        | 0.2       | 0.2         | 0.2         | 0.2         | 0.2      | 0.2        | 0.2      |\n",
      "+-------------+-----------+------------+-----------+-------------+-------------+-------------+----------+------------+----------+\n",
      "| RoD(Low)    | 0.7       | 0.7        | 0.7       | 0.7         | 0.7         | 0.7         | 0.7      | 0.7        | 0.7      |\n",
      "+-------------+-----------+------------+-----------+-------------+-------------+-------------+----------+------------+----------+\n"
     ]
    }
   ],
   "source": [
    "print(cpd_road_density)"
   ]
  },
  {
   "cell_type": "code",
   "execution_count": null,
   "id": "50a6b360",
   "metadata": {},
   "outputs": [],
   "source": []
  },
  {
   "cell_type": "code",
   "execution_count": null,
   "id": "04577937",
   "metadata": {},
   "outputs": [],
   "source": []
  }
 ],
 "metadata": {
  "kernelspec": {
   "display_name": "Python 3 (ipykernel)",
   "language": "python",
   "name": "python3"
  },
  "language_info": {
   "codemirror_mode": {
    "name": "ipython",
    "version": 3
   },
   "file_extension": ".py",
   "mimetype": "text/x-python",
   "name": "python",
   "nbconvert_exporter": "python",
   "pygments_lexer": "ipython3",
   "version": "3.8.12"
  }
 },
 "nbformat": 4,
 "nbformat_minor": 5
}
