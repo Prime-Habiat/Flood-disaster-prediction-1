{
 "cells": [
  {
   "cell_type": "code",
   "execution_count": 11,
   "id": "37719c17",
   "metadata": {},
   "outputs": [],
   "source": [
    "from pgmpy.models import BayesianModel\n",
    "from pgmpy.factors.discrete import TabularCPD"
   ]
  },
  {
   "cell_type": "code",
   "execution_count": 12,
   "id": "af7f131b",
   "metadata": {},
   "outputs": [],
   "source": [
    "PER_UNIT_GDP = 'per unit GDP'\n",
    "ROAD_DENSITY = 'road density'\n",
    "POPULATION_DENSITY = 'population density'\n",
    "ELEVATION = 'elevation'\n",
    "SLOPE = 'slope'\n",
    "RAINFALL_DURATION = 'rainfall duration'\n",
    "RIVER_DENSITY = 'river density'\n",
    "RAINFALL_AMOUNT = 'rainfall amount'\n",
    "FLOOD = 'flood'"
   ]
  },
  {
   "cell_type": "code",
   "execution_count": 13,
   "id": "91b5a081",
   "metadata": {},
   "outputs": [],
   "source": [
    "values_dictionary = {\n",
    "    PER_UNIT_GDP: [\n",
    "        [0.1], \n",
    "        [0.2], \n",
    "        [0.7]\n",
    "    ],\n",
    "    ROAD_DENSITY: [\n",
    "        [0.1, 0.1, 0.1, 0.1, 0.1, 0.1, 0.1, 0.1, 0.1],\n",
    "        [0.2, 0.2, 0.2, 0.2, 0.2, 0.2, 0.2, 0.2, 0.2],\n",
    "        [0.7, 0.7, 0.7, 0.7, 0.7, 0.7, 0.7, 0.7, 0.7]\n",
    "    ],\n",
    "    POPULATION_DENSITY: [\n",
    "        [0.1, 0.1, 0.1],\n",
    "        [0.2, 0.2, 0.2],\n",
    "        [0.7, 0.7, 0.7],\n",
    "    ],\n",
    "    ELEVATION: [\n",
    "        [0.1],\n",
    "        [0.2], \n",
    "        [0.7]\n",
    "    ],\n",
    "    SLOPE: [\n",
    "        [0.6], \n",
    "        [0.4]\n",
    "    ],\n",
    "    RAINFALL_DURATION: [\n",
    "        [0.1], \n",
    "        [0.2], \n",
    "        [0.7]\n",
    "    ],\n",
    "    RIVER_DENSITY: [\n",
    "        [0.3], \n",
    "        [0.7]\n",
    "    ],\n",
    "    RAINFALL_AMOUNT: [\n",
    "        [0.1, 0.1, 0.1, 0.1, 0.1, 0.1],\n",
    "        [0.7, 0.7, 0.7, 0.7, 0.7, 0.7],\n",
    "        [0.2, 0.2, 0.2, 0.2, 0.2, 0.2],\n",
    "    ],\n",
    "    FLOOD: [\n",
    "        [0.1, 0.1, 0.1, 0.1, 0.1, 0.1, 0.1, 0.1, 0.1, 0.1, 0.1, 0.1, 0.1, 0.1, 0.1, 0.1, 0.1, 0.1],\n",
    "        [0.2, 0.2, 0.2, 0.2, 0.2, 0.2, 0.2, 0.2, 0.2, 0.2, 0.2, 0.2, 0.2, 0.2, 0.2, 0.2, 0.2, 0.2],\n",
    "        [0.7, 0.7, 0.7, 0.7, 0.7, 0.7, 0.7, 0.7, 0.7, 0.7, 0.7, 0.7, 0.7, 0.7, 0.7, 0.7, 0.7, 0.7]\n",
    "    ],\n",
    "}"
   ]
  },
  {
   "cell_type": "code",
   "execution_count": 14,
   "id": "2831e1bf",
   "metadata": {},
   "outputs": [],
   "source": [
    "table_dictionary = {\n",
    "    PER_UNIT_GDP: ['High', 'Medium', 'Low'],\n",
    "    ROAD_DENSITY: ['High', 'Medium', 'Low'],\n",
    "    POPULATION_DENSITY: ['High', 'Medium', 'Low'],\n",
    "    ELEVATION: ['High', 'Medium', 'Low'],\n",
    "    SLOPE: ['Steep', 'Flat'],\n",
    "    RAINFALL_DURATION: ['Long', 'Medium', 'Short'],\n",
    "    RIVER_DENSITY: ['Dense', 'Sparse'],\n",
    "    RAINFALL_AMOUNT: ['Huge', 'Medium', 'Little'],\n",
    "    FLOOD: ['Yes', 'No']\n",
    "}"
   ]
  },
  {
   "cell_type": "code",
   "execution_count": 15,
   "id": "fc6da6fd",
   "metadata": {},
   "outputs": [],
   "source": [
    "edges = [\n",
    "    (PER_UNIT_GDP, ROAD_DENSITY), \n",
    "    (PER_UNIT_GDP, POPULATION_DENSITY), \n",
    "    (POPULATION_DENSITY, ROAD_DENSITY),\n",
    "    (ROAD_DENSITY, FLOOD),\n",
    "    (ELEVATION, SLOPE),\n",
    "    (SLOPE, FLOOD),\n",
    "    (RAINFALL_DURATION, RAINFALL_AMOUNT),\n",
    "    (RIVER_DENSITY, RAINFALL_AMOUNT),\n",
    "    (RAINFALL_AMOUNT, FLOOD)\n",
    "]"
   ]
  },
  {
   "cell_type": "code",
   "execution_count": 16,
   "id": "222bb966",
   "metadata": {},
   "outputs": [],
   "source": [
    "# Defining the model structure. We can define the network by just passing a list of edges.\n",
    "model = BayesianModel(edges)"
   ]
  },
  {
   "cell_type": "code",
   "execution_count": 17,
   "id": "688166a5",
   "metadata": {},
   "outputs": [],
   "source": [
    "def pick_dictionary_subset(dictionary, keys):\n",
    "    return dict((k, dictionary[k]) for k in keys if k in dictionary)"
   ]
  },
  {
   "cell_type": "code",
   "execution_count": 23,
   "id": "7a2f8c10",
   "metadata": {},
   "outputs": [],
   "source": [
    "cpd_per_unit_gdp = TabularCPD(\n",
    "    variable = PER_UNIT_GDP, \n",
    "    variable_card = len(table_dictionary[PER_UNIT_GDP]), \n",
    "    values = values_dictionary[PER_UNIT_GDP],\n",
    "    #evidence=['PaymentHistory'],\n",
    "    #evidence_card=[3],\n",
    "    state_names= pick_dictionary_subset(table_dictionary, [PER_UNIT_GDP])\n",
    ")\n",
    "\n",
    "cpd_population_density = TabularCPD(\n",
    "    variable = POPULATION_DENSITY, \n",
    "    variable_card = len(table_dictionary[POPULATION_DENSITY]), \n",
    "    values = values_dictionary[POPULATION_DENSITY],\n",
    "    evidence=[PER_UNIT_GDP],\n",
    "    evidence_card=[len(table_dictionary[PER_UNIT_GDP])],\n",
    "    state_names= pick_dictionary_subset(\n",
    "        table_dictionary, [POPULATION_DENSITY, PER_UNIT_GDP]\n",
    "    )\n",
    ")"
   ]
  },
  {
   "cell_type": "code",
   "execution_count": 24,
   "id": "6a3c5871",
   "metadata": {},
   "outputs": [
    {
     "name": "stdout",
     "output_type": "stream",
     "text": [
      "+----------------------------+--------------------+----------------------+-------------------+\n",
      "| per unit GDP               | per unit GDP(High) | per unit GDP(Medium) | per unit GDP(Low) |\n",
      "+----------------------------+--------------------+----------------------+-------------------+\n",
      "| population density(High)   | 0.1                | 0.1                  | 0.1               |\n",
      "+----------------------------+--------------------+----------------------+-------------------+\n",
      "| population density(Medium) | 0.2                | 0.2                  | 0.2               |\n",
      "+----------------------------+--------------------+----------------------+-------------------+\n",
      "| population density(Low)    | 0.7                | 0.7                  | 0.7               |\n",
      "+----------------------------+--------------------+----------------------+-------------------+\n"
     ]
    }
   ],
   "source": [
    "print(cpd_population_density)"
   ]
  },
  {
   "cell_type": "code",
   "execution_count": null,
   "id": "60272a5a",
   "metadata": {},
   "outputs": [],
   "source": []
  },
  {
   "cell_type": "code",
   "execution_count": null,
   "id": "abd1ddc2",
   "metadata": {},
   "outputs": [],
   "source": []
  }
 ],
 "metadata": {
  "kernelspec": {
   "display_name": "Python 3 (ipykernel)",
   "language": "python",
   "name": "python3"
  },
  "language_info": {
   "codemirror_mode": {
    "name": "ipython",
    "version": 3
   },
   "file_extension": ".py",
   "mimetype": "text/x-python",
   "name": "python",
   "nbconvert_exporter": "python",
   "pygments_lexer": "ipython3",
   "version": "3.8.12"
  }
 },
 "nbformat": 4,
 "nbformat_minor": 5
}
