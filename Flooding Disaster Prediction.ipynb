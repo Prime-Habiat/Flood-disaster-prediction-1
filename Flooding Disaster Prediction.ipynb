{
 "cells": [
  {
   "cell_type": "code",
   "execution_count": 85,
   "id": "37719c17",
   "metadata": {},
   "outputs": [],
   "source": [
    "from pgmpy.models import BayesianModel\n",
    "from pgmpy.factors.discrete import TabularCPD\n",
    "from pgmpy.inference import VariableElimination\n",
    "\n",
    "import numpy as np\n",
    "\n",
    "from utils import *\n",
    "\n",
    "import networkx as nx\n",
    "\n",
    "import matplotlib.pyplot as plt"
   ]
  },
  {
   "cell_type": "code",
   "execution_count": 86,
   "id": "57982d72",
   "metadata": {},
   "outputs": [],
   "source": [
    "%matplotlib inline"
   ]
  },
  {
   "cell_type": "code",
   "execution_count": 87,
   "id": "95e23cdb",
   "metadata": {},
   "outputs": [],
   "source": [
    "PER_UNIT_GDP = 'Per unit GDP'\n",
    "ROAD_DENSITY = 'Road density'\n",
    "POPULATION_DENSITY = 'Population density'\n",
    "ELEVATION = 'Elevation'\n",
    "SLOPE = 'Slope'\n",
    "RAINFALL_FREQUENCY = 'Rainfall frequency'\n",
    "RIVER_DENSITY = 'River density'\n",
    "RAINFALL_AMOUNT = 'Rainfall amount'\n",
    "FLOOD = 'Flood'"
   ]
  },
  {
   "cell_type": "code",
   "execution_count": 88,
   "id": "b4c317fb",
   "metadata": {},
   "outputs": [],
   "source": [
    "variables = [\n",
    "    PER_UNIT_GDP,\n",
    "    ROAD_DENSITY,\n",
    "    POPULATION_DENSITY,\n",
    "    ELEVATION,\n",
    "    SLOPE,\n",
    "    RAINFALL_FREQUENCY,\n",
    "    RIVER_DENSITY,\n",
    "    RAINFALL_AMOUNT,\n",
    "    FLOOD\n",
    "]"
   ]
  },
  {
   "cell_type": "code",
   "execution_count": 89,
   "id": "017a024a",
   "metadata": {},
   "outputs": [],
   "source": [
    "values_dictionary = {\n",
    "    PER_UNIT_GDP: [\n",
    "        [0.3], \n",
    "        [0.63], \n",
    "        [0.07]\n",
    "    ],\n",
    "    POPULATION_DENSITY: [\n",
    "        [0.7, 0.3, 0.05],\n",
    "        [0.2, 0.55, 0.25],\n",
    "        [0.1, 0.15, 0.7],\n",
    "    ],\n",
    "    ROAD_DENSITY: [\n",
    "        [0.8, 0.7, 0.1, 0.6, 0.4, 0.1, 0.1, 0.05, 0.01],\n",
    "        [0.19, 0.25, 0.35, 0.3, 0.5, 0.25, 0.25, 0.2, 0.15],\n",
    "        [0.01, 0.05, 0.55, 0.1, 0.1, 0.65, 0.65, 0.75, 0.84]\n",
    "    ],\n",
    "    ELEVATION: [\n",
    "        [0.15],\n",
    "        [0.1], \n",
    "        [0.75]\n",
    "    ],\n",
    "    SLOPE: [\n",
    "        [0.75, 0.6, 0.05], \n",
    "        [0.25, 0.4, 0.95]\n",
    "    ],\n",
    "    RAINFALL_FREQUENCY: [\n",
    "        [0.3], \n",
    "        [0.6], \n",
    "        [0.1]\n",
    "    ],\n",
    "    RIVER_DENSITY: [\n",
    "        [0.4], \n",
    "        [0.6]\n",
    "    ],\n",
    "    RAINFALL_AMOUNT: [\n",
    "        [0.7, 0.5, 0.55, 0.3, 0.1, 0.01],\n",
    "        [0.2, 0.25, 0.3, 0.4, 0.3, 0.04],\n",
    "        [0.1, 0.25, 0.15, 0.3, 0.6, 0.95]\n",
    "    ],\n",
    "    FLOOD: [\n",
    "        [0.07, 0.03, 0.005, 0.2, 0.1, 0.008, 0.05, 0.009, 0.0005, 0.13, 0.08, 0.006, 0.008, 0.002, 0.0001, 0.1, 0.04, 0.0002],\n",
    "        [0.93, 0.97, 0.995, 0.8, 0.9, 0.992, 0.95, 0.991, 0.9995, 0.87, 0.92, 0.994, 0.992, 0.998, 0.9999, 0.9, 0.96, 0.9998]\n",
    "    ],\n",
    "}\n",
    "\n",
    "# FLOOD, ROAD_DENSITY, SLOPE, RAINFALL_AMOUNT"
   ]
  },
  {
   "cell_type": "code",
   "execution_count": 90,
   "id": "823eca16",
   "metadata": {},
   "outputs": [
    {
     "data": {
      "text/html": [
       "<div>\n",
       "<style scoped>\n",
       "    .dataframe tbody tr th:only-of-type {\n",
       "        vertical-align: middle;\n",
       "    }\n",
       "\n",
       "    .dataframe tbody tr th {\n",
       "        vertical-align: top;\n",
       "    }\n",
       "\n",
       "    .dataframe thead tr th {\n",
       "        text-align: left;\n",
       "    }\n",
       "</style>\n",
       "<table border=\"1\" class=\"dataframe\">\n",
       "  <thead>\n",
       "    <tr>\n",
       "      <th></th>\n",
       "      <th colspan=\"2\" halign=\"left\">Rainfall frequency(Frequent)</th>\n",
       "      <th colspan=\"2\" halign=\"left\">Rainfall frequency(Medium)</th>\n",
       "      <th colspan=\"2\" halign=\"left\">Rainfall frequency(Rare)</th>\n",
       "    </tr>\n",
       "    <tr>\n",
       "      <th></th>\n",
       "      <th>River density(Dense)</th>\n",
       "      <th>River density(Sparse)</th>\n",
       "      <th>River density(Dense)</th>\n",
       "      <th>River density(Sparse)</th>\n",
       "      <th>River density(Dense)</th>\n",
       "      <th>River density(Sparse)</th>\n",
       "    </tr>\n",
       "  </thead>\n",
       "  <tbody>\n",
       "    <tr>\n",
       "      <th>Rainfall amount(Huge)</th>\n",
       "      <td>0.7</td>\n",
       "      <td>0.50</td>\n",
       "      <td>0.55</td>\n",
       "      <td>0.3</td>\n",
       "      <td>0.1</td>\n",
       "      <td>0.01</td>\n",
       "    </tr>\n",
       "    <tr>\n",
       "      <th>Rainfall amount(Medium)</th>\n",
       "      <td>0.2</td>\n",
       "      <td>0.25</td>\n",
       "      <td>0.30</td>\n",
       "      <td>0.4</td>\n",
       "      <td>0.3</td>\n",
       "      <td>0.04</td>\n",
       "    </tr>\n",
       "    <tr>\n",
       "      <th>Rainfall amount(Little)</th>\n",
       "      <td>0.1</td>\n",
       "      <td>0.25</td>\n",
       "      <td>0.15</td>\n",
       "      <td>0.3</td>\n",
       "      <td>0.6</td>\n",
       "      <td>0.95</td>\n",
       "    </tr>\n",
       "  </tbody>\n",
       "</table>\n",
       "</div>"
      ],
      "text/plain": [
       "                           Rainfall frequency(Frequent)   \\\n",
       "                           River density(Dense)            \n",
       " Rainfall amount(Huge)                               0.7   \n",
       " Rainfall amount(Medium)                             0.2   \n",
       " Rainfall amount(Little)                             0.1   \n",
       "\n",
       "                                                          \\\n",
       "                           River density(Sparse)           \n",
       " Rainfall amount(Huge)                              0.50   \n",
       " Rainfall amount(Medium)                            0.25   \n",
       " Rainfall amount(Little)                            0.25   \n",
       "\n",
       "                           Rainfall frequency(Medium)   \\\n",
       "                           River density(Dense)          \n",
       " Rainfall amount(Huge)                            0.55   \n",
       " Rainfall amount(Medium)                          0.30   \n",
       " Rainfall amount(Little)                          0.15   \n",
       "\n",
       "                                                        \\\n",
       "                           River density(Sparse)         \n",
       " Rainfall amount(Huge)                             0.3   \n",
       " Rainfall amount(Medium)                           0.4   \n",
       " Rainfall amount(Little)                           0.3   \n",
       "\n",
       "                           Rainfall frequency(Rare)   \\\n",
       "                           River density(Dense)        \n",
       " Rainfall amount(Huge)                           0.1   \n",
       " Rainfall amount(Medium)                         0.3   \n",
       " Rainfall amount(Little)                         0.6   \n",
       "\n",
       "                                                      \n",
       "                           River density(Sparse)      \n",
       " Rainfall amount(Huge)                          0.01  \n",
       " Rainfall amount(Medium)                        0.04  \n",
       " Rainfall amount(Little)                        0.95  "
      ]
     },
     "execution_count": 90,
     "metadata": {},
     "output_type": "execute_result"
    }
   ],
   "source": [
    "cpd_to_pandas(cpd_rainfall_amount)"
   ]
  },
  {
   "cell_type": "code",
   "execution_count": 91,
   "id": "d411aa21",
   "metadata": {},
   "outputs": [],
   "source": [
    "state_names_dictionary = {\n",
    "    PER_UNIT_GDP: ['High', 'Medium', 'Low'],\n",
    "    POPULATION_DENSITY: ['Dense', 'Medium', 'Sparse'],\n",
    "    ROAD_DENSITY: ['Dense', 'Medium', 'Sparse'],\n",
    "    ELEVATION: ['High', 'Medium', 'Low'],\n",
    "    SLOPE: ['Steep', 'Flat'],\n",
    "    RAINFALL_FREQUENCY: ['Frequent', 'Medium', 'Rare'],\n",
    "    RIVER_DENSITY: ['Dense', 'Sparse'],\n",
    "    RAINFALL_AMOUNT: ['Huge', 'Medium', 'Little'],\n",
    "    FLOOD: ['Yes', 'No']\n",
    "}"
   ]
  },
  {
   "cell_type": "code",
   "execution_count": 92,
   "id": "991dfac4",
   "metadata": {},
   "outputs": [],
   "source": [
    "edges = [\n",
    "    (PER_UNIT_GDP, ROAD_DENSITY), \n",
    "    (PER_UNIT_GDP, POPULATION_DENSITY), \n",
    "    (POPULATION_DENSITY, ROAD_DENSITY),\n",
    "    (ROAD_DENSITY, FLOOD),\n",
    "    (ELEVATION, SLOPE),\n",
    "    (SLOPE, FLOOD),\n",
    "    (RAINFALL_FREQUENCY, RAINFALL_AMOUNT),\n",
    "    (RIVER_DENSITY, RAINFALL_AMOUNT),\n",
    "    (RAINFALL_AMOUNT, FLOOD)\n",
    "]"
   ]
  },
  {
   "cell_type": "code",
   "execution_count": 93,
   "id": "83306064",
   "metadata": {},
   "outputs": [],
   "source": [
    "evidence_dictionary = {\n",
    "    PER_UNIT_GDP: None,\n",
    "    POPULATION_DENSITY: [PER_UNIT_GDP],\n",
    "    ROAD_DENSITY: [PER_UNIT_GDP, POPULATION_DENSITY],\n",
    "    ELEVATION: None,\n",
    "    SLOPE: [ELEVATION],\n",
    "    RAINFALL_FREQUENCY: None,\n",
    "    RIVER_DENSITY: None,\n",
    "    RAINFALL_AMOUNT: [RAINFALL_FREQUENCY, RIVER_DENSITY],\n",
    "    FLOOD: [ROAD_DENSITY, SLOPE, RAINFALL_AMOUNT]\n",
    "}"
   ]
  },
  {
   "cell_type": "code",
   "execution_count": 94,
   "id": "00e2c3fa",
   "metadata": {},
   "outputs": [],
   "source": [
    "# Defining the model structure. We can define the network by just passing a list of edges.\n",
    "model = BayesianModel(edges)"
   ]
  },
  {
   "cell_type": "code",
   "execution_count": 95,
   "id": "1de0316a",
   "metadata": {},
   "outputs": [
    {
     "data": {
      "image/png": "[encoded data removed]",
      "text/plain": [
       "<Figure size 432x288 with 1 Axes>"
      ]
     },
     "metadata": {},
     "output_type": "display_data"
    }
   ],
   "source": [
    "nx.draw(model, node_size = 2500, with_labels = True)\n",
    "plt.show()"
   ]
  },
  {
   "cell_type": "code",
   "execution_count": 96,
   "id": "caef459d",
   "metadata": {},
   "outputs": [],
   "source": [
    "# ToDo: an idea can be to set the evidence, its cardinality and the state_names programmatically, \n",
    "# or even define these tables in a for loop\n",
    "\n",
    "cpd_per_unit_gdp = TabularCPD(\n",
    "    variable = PER_UNIT_GDP, \n",
    "    variable_card = len(state_names_dictionary[PER_UNIT_GDP]), \n",
    "    values = values_dictionary[PER_UNIT_GDP],\n",
    "    state_names = get_state_names(PER_UNIT_GDP, state_names_dictionary, evidence_dictionary)\n",
    ")\n",
    "\n",
    "cpd_population_density = TabularCPD(\n",
    "    variable = POPULATION_DENSITY, \n",
    "    variable_card = len(state_names_dictionary[POPULATION_DENSITY]), \n",
    "    values = values_dictionary[POPULATION_DENSITY],\n",
    "    evidence = evidence_dictionary[POPULATION_DENSITY],\n",
    "    evidence_card = get_evidence_card(POPULATION_DENSITY, state_names_dictionary, evidence_dictionary),\n",
    "    state_names = get_state_names(POPULATION_DENSITY, state_names_dictionary, evidence_dictionary)\n",
    ")\n",
    "\n",
    "cpd_road_density = TabularCPD(\n",
    "    variable = ROAD_DENSITY, \n",
    "    variable_card = len(state_names_dictionary[ROAD_DENSITY]), \n",
    "    values = values_dictionary[ROAD_DENSITY],\n",
    "    evidence = evidence_dictionary[ROAD_DENSITY],\n",
    "    evidence_card = get_evidence_card(ROAD_DENSITY, state_names_dictionary, evidence_dictionary),\n",
    "    state_names = get_state_names(ROAD_DENSITY, state_names_dictionary, evidence_dictionary)\n",
    ")\n",
    "\n",
    "cpd_elevation = TabularCPD(\n",
    "    variable = ELEVATION, \n",
    "    variable_card = len(state_names_dictionary[ELEVATION]), \n",
    "    values = values_dictionary[ELEVATION],\n",
    "    state_names = get_state_names(ELEVATION, state_names_dictionary, evidence_dictionary)\n",
    ")\n",
    "\n",
    "cpd_slope = TabularCPD(\n",
    "    variable = SLOPE, \n",
    "    variable_card = len(state_names_dictionary[SLOPE]), \n",
    "    values = values_dictionary[SLOPE],\n",
    "    evidence = evidence_dictionary[SLOPE],\n",
    "    evidence_card = get_evidence_card(SLOPE, state_names_dictionary, evidence_dictionary),\n",
    "    state_names = get_state_names(SLOPE, state_names_dictionary, evidence_dictionary)\n",
    ")\n",
    "\n",
    "cpd_rainfall_frequency = TabularCPD(\n",
    "    variable = RAINFALL_FREQUENCY, \n",
    "    variable_card = len(state_names_dictionary[RAINFALL_FREQUENCY]), \n",
    "    values = values_dictionary[RAINFALL_FREQUENCY],\n",
    "    state_names = get_state_names(RAINFALL_FREQUENCY, state_names_dictionary, evidence_dictionary)\n",
    ")\n",
    "\n",
    "cpd_river_density = TabularCPD(\n",
    "    variable = RIVER_DENSITY, \n",
    "    variable_card = len(state_names_dictionary[RIVER_DENSITY]), \n",
    "    values = values_dictionary[RIVER_DENSITY],\n",
    "    state_names = get_state_names(RIVER_DENSITY, state_names_dictionary, evidence_dictionary)\n",
    ")\n",
    "\n",
    "cpd_rainfall_amount = TabularCPD(\n",
    "    variable = RAINFALL_AMOUNT, \n",
    "    variable_card = len(state_names_dictionary[RAINFALL_AMOUNT]), \n",
    "    values = values_dictionary[RAINFALL_AMOUNT],\n",
    "    evidence = evidence_dictionary[RAINFALL_AMOUNT],\n",
    "    evidence_card = get_evidence_card(RAINFALL_AMOUNT, state_names_dictionary, evidence_dictionary),\n",
    "    state_names = get_state_names(RAINFALL_AMOUNT, state_names_dictionary, evidence_dictionary)\n",
    ")\n",
    "\n",
    "cpd_flood = TabularCPD(\n",
    "    variable = FLOOD, \n",
    "    variable_card = len(state_names_dictionary[FLOOD]), \n",
    "    values = values_dictionary[FLOOD],\n",
    "    evidence = evidence_dictionary[FLOOD],\n",
    "    evidence_card = get_evidence_card(FLOOD, state_names_dictionary, evidence_dictionary),\n",
    "    state_names = get_state_names(FLOOD, state_names_dictionary, evidence_dictionary)\n",
    ")"
   ]
  },
  {
   "cell_type": "code",
   "execution_count": 97,
   "id": "09157a9d",
   "metadata": {},
   "outputs": [
    {
     "data": {
      "text/plain": [
       "True"
      ]
     },
     "execution_count": 97,
     "metadata": {},
     "output_type": "execute_result"
    }
   ],
   "source": [
    "model.add_cpds(cpd_per_unit_gdp, cpd_population_density, cpd_road_density, cpd_elevation, cpd_slope, cpd_rainfall_frequency, cpd_river_density, cpd_rainfall_amount, cpd_flood)\n",
    "model.check_model()"
   ]
  },
  {
   "cell_type": "code",
   "execution_count": 98,
   "id": "322e522e",
   "metadata": {},
   "outputs": [
    {
     "data": {
      "text/html": [
       "<div>\n",
       "<style scoped>\n",
       "    .dataframe tbody tr th:only-of-type {\n",
       "        vertical-align: middle;\n",
       "    }\n",
       "\n",
       "    .dataframe tbody tr th {\n",
       "        vertical-align: top;\n",
       "    }\n",
       "\n",
       "    .dataframe thead th {\n",
       "        text-align: right;\n",
       "    }\n",
       "</style>\n",
       "<table border=\"1\" class=\"dataframe\">\n",
       "  <thead>\n",
       "    <tr style=\"text-align: right;\">\n",
       "      <th></th>\n",
       "      <th></th>\n",
       "    </tr>\n",
       "  </thead>\n",
       "  <tbody>\n",
       "    <tr>\n",
       "      <th>Per unit GDP(High)</th>\n",
       "      <td>0.30</td>\n",
       "    </tr>\n",
       "    <tr>\n",
       "      <th>Per unit GDP(Medium)</th>\n",
       "      <td>0.63</td>\n",
       "    </tr>\n",
       "    <tr>\n",
       "      <th>Per unit GDP(Low)</th>\n",
       "      <td>0.07</td>\n",
       "    </tr>\n",
       "  </tbody>\n",
       "</table>\n",
       "</div>"
      ],
      "text/plain": [
       "                            \n",
       " Per unit GDP(High)     0.30\n",
       " Per unit GDP(Medium)   0.63\n",
       " Per unit GDP(Low)      0.07"
      ]
     },
     "execution_count": 98,
     "metadata": {},
     "output_type": "execute_result"
    }
   ],
   "source": [
    "cpd_to_pandas(cpd_per_unit_gdp)"
   ]
  },
  {
   "cell_type": "code",
   "execution_count": 99,
   "id": "fb836138",
   "metadata": {},
   "outputs": [
    {
     "data": {
      "text/html": [
       "<div>\n",
       "<style scoped>\n",
       "    .dataframe tbody tr th:only-of-type {\n",
       "        vertical-align: middle;\n",
       "    }\n",
       "\n",
       "    .dataframe tbody tr th {\n",
       "        vertical-align: top;\n",
       "    }\n",
       "\n",
       "    .dataframe thead th {\n",
       "        text-align: right;\n",
       "    }\n",
       "</style>\n",
       "<table border=\"1\" class=\"dataframe\">\n",
       "  <thead>\n",
       "    <tr style=\"text-align: right;\">\n",
       "      <th></th>\n",
       "      <th>Per unit GDP(High)</th>\n",
       "      <th>Per unit GDP(Medium)</th>\n",
       "      <th>Per unit GDP(Low)</th>\n",
       "    </tr>\n",
       "  </thead>\n",
       "  <tbody>\n",
       "    <tr>\n",
       "      <th>Population density(Dense)</th>\n",
       "      <td>0.7</td>\n",
       "      <td>0.30</td>\n",
       "      <td>0.05</td>\n",
       "    </tr>\n",
       "    <tr>\n",
       "      <th>Population density(Medium)</th>\n",
       "      <td>0.2</td>\n",
       "      <td>0.55</td>\n",
       "      <td>0.25</td>\n",
       "    </tr>\n",
       "    <tr>\n",
       "      <th>Population density(Sparse)</th>\n",
       "      <td>0.1</td>\n",
       "      <td>0.15</td>\n",
       "      <td>0.70</td>\n",
       "    </tr>\n",
       "  </tbody>\n",
       "</table>\n",
       "</div>"
      ],
      "text/plain": [
       "                               Per unit GDP(High)    Per unit GDP(Medium)   \\\n",
       " Population density(Dense)                     0.7                    0.30   \n",
       " Population density(Medium)                    0.2                    0.55   \n",
       " Population density(Sparse)                    0.1                    0.15   \n",
       "\n",
       "                               Per unit GDP(Low)   \n",
       " Population density(Dense)                   0.05  \n",
       " Population density(Medium)                  0.25  \n",
       " Population density(Sparse)                  0.70  "
      ]
     },
     "execution_count": 99,
     "metadata": {},
     "output_type": "execute_result"
    }
   ],
   "source": [
    "cpd_to_pandas(cpd_population_density)"
   ]
  },
  {
   "cell_type": "code",
   "execution_count": 100,
   "id": "8c72b7e0",
   "metadata": {},
   "outputs": [
    {
     "data": {
      "text/html": [
       "<div>\n",
       "<style scoped>\n",
       "    .dataframe tbody tr th:only-of-type {\n",
       "        vertical-align: middle;\n",
       "    }\n",
       "\n",
       "    .dataframe tbody tr th {\n",
       "        vertical-align: top;\n",
       "    }\n",
       "\n",
       "    .dataframe thead tr th {\n",
       "        text-align: left;\n",
       "    }\n",
       "</style>\n",
       "<table border=\"1\" class=\"dataframe\">\n",
       "  <thead>\n",
       "    <tr>\n",
       "      <th></th>\n",
       "      <th>Per unit GDP(High)</th>\n",
       "      <th colspan=\"2\" halign=\"left\">Per unit GDP(High)</th>\n",
       "      <th>Per unit GDP(Medium)</th>\n",
       "      <th colspan=\"2\" halign=\"left\">Per unit GDP(Medium)</th>\n",
       "      <th>Per unit GDP(Low)</th>\n",
       "      <th colspan=\"2\" halign=\"left\">Per unit GDP(Low)</th>\n",
       "    </tr>\n",
       "    <tr>\n",
       "      <th></th>\n",
       "      <th>Population density(Dense)</th>\n",
       "      <th>Population density(Medium)</th>\n",
       "      <th>Population density(Sparse)</th>\n",
       "      <th>Population density(Dense)</th>\n",
       "      <th>Population density(Medium)</th>\n",
       "      <th>Population density(Sparse)</th>\n",
       "      <th>Population density(Dense)</th>\n",
       "      <th>Population density(Medium)</th>\n",
       "      <th>Population density(Sparse)</th>\n",
       "    </tr>\n",
       "  </thead>\n",
       "  <tbody>\n",
       "    <tr>\n",
       "      <th>Road density(Dense)</th>\n",
       "      <td>0.80</td>\n",
       "      <td>0.70</td>\n",
       "      <td>0.10</td>\n",
       "      <td>0.6</td>\n",
       "      <td>0.4</td>\n",
       "      <td>0.10</td>\n",
       "      <td>0.10</td>\n",
       "      <td>0.05</td>\n",
       "      <td>0.01</td>\n",
       "    </tr>\n",
       "    <tr>\n",
       "      <th>Road density(Medium)</th>\n",
       "      <td>0.19</td>\n",
       "      <td>0.25</td>\n",
       "      <td>0.35</td>\n",
       "      <td>0.3</td>\n",
       "      <td>0.5</td>\n",
       "      <td>0.25</td>\n",
       "      <td>0.25</td>\n",
       "      <td>0.20</td>\n",
       "      <td>0.15</td>\n",
       "    </tr>\n",
       "    <tr>\n",
       "      <th>Road density(Sparse)</th>\n",
       "      <td>0.01</td>\n",
       "      <td>0.05</td>\n",
       "      <td>0.55</td>\n",
       "      <td>0.1</td>\n",
       "      <td>0.1</td>\n",
       "      <td>0.65</td>\n",
       "      <td>0.65</td>\n",
       "      <td>0.75</td>\n",
       "      <td>0.84</td>\n",
       "    </tr>\n",
       "  </tbody>\n",
       "</table>\n",
       "</div>"
      ],
      "text/plain": [
       "                        Per unit GDP(High)          \\\n",
       "                        Population density(Dense)    \n",
       " Road density(Dense)                          0.80   \n",
       " Road density(Medium)                         0.19   \n",
       " Road density(Sparse)                         0.01   \n",
       "\n",
       "                        Per unit GDP(High)           \\\n",
       "                        Population density(Medium)    \n",
       " Road density(Dense)                           0.70   \n",
       " Road density(Medium)                          0.25   \n",
       " Road density(Sparse)                          0.05   \n",
       "\n",
       "                                                     \\\n",
       "                        Population density(Sparse)    \n",
       " Road density(Dense)                           0.10   \n",
       " Road density(Medium)                          0.35   \n",
       " Road density(Sparse)                          0.55   \n",
       "\n",
       "                        Per unit GDP(Medium)        \\\n",
       "                        Population density(Dense)    \n",
       " Road density(Dense)                           0.6   \n",
       " Road density(Medium)                          0.3   \n",
       " Road density(Sparse)                          0.1   \n",
       "\n",
       "                        Per unit GDP(Medium)         \\\n",
       "                        Population density(Medium)    \n",
       " Road density(Dense)                            0.4   \n",
       " Road density(Medium)                           0.5   \n",
       " Road density(Sparse)                           0.1   \n",
       "\n",
       "                                                     \\\n",
       "                        Population density(Sparse)    \n",
       " Road density(Dense)                           0.10   \n",
       " Road density(Medium)                          0.25   \n",
       " Road density(Sparse)                          0.65   \n",
       "\n",
       "                        Per unit GDP(Low)           \\\n",
       "                        Population density(Dense)    \n",
       " Road density(Dense)                          0.10   \n",
       " Road density(Medium)                         0.25   \n",
       " Road density(Sparse)                         0.65   \n",
       "\n",
       "                        Per unit GDP(Low)            \\\n",
       "                        Population density(Medium)    \n",
       " Road density(Dense)                           0.05   \n",
       " Road density(Medium)                          0.20   \n",
       " Road density(Sparse)                          0.75   \n",
       "\n",
       "                                                     \n",
       "                        Population density(Sparse)   \n",
       " Road density(Dense)                           0.01  \n",
       " Road density(Medium)                          0.15  \n",
       " Road density(Sparse)                          0.84  "
      ]
     },
     "execution_count": 100,
     "metadata": {},
     "output_type": "execute_result"
    }
   ],
   "source": [
    "cpd_to_pandas(cpd_road_density)"
   ]
  },
  {
   "cell_type": "code",
   "execution_count": 101,
   "id": "56de285b",
   "metadata": {},
   "outputs": [
    {
     "data": {
      "text/html": [
       "<div>\n",
       "<style scoped>\n",
       "    .dataframe tbody tr th:only-of-type {\n",
       "        vertical-align: middle;\n",
       "    }\n",
       "\n",
       "    .dataframe tbody tr th {\n",
       "        vertical-align: top;\n",
       "    }\n",
       "\n",
       "    .dataframe thead th {\n",
       "        text-align: right;\n",
       "    }\n",
       "</style>\n",
       "<table border=\"1\" class=\"dataframe\">\n",
       "  <thead>\n",
       "    <tr style=\"text-align: right;\">\n",
       "      <th></th>\n",
       "      <th></th>\n",
       "    </tr>\n",
       "  </thead>\n",
       "  <tbody>\n",
       "    <tr>\n",
       "      <th>Elevation(High)</th>\n",
       "      <td>0.15</td>\n",
       "    </tr>\n",
       "    <tr>\n",
       "      <th>Elevation(Medium)</th>\n",
       "      <td>0.10</td>\n",
       "    </tr>\n",
       "    <tr>\n",
       "      <th>Elevation(Low)</th>\n",
       "      <td>0.75</td>\n",
       "    </tr>\n",
       "  </tbody>\n",
       "</table>\n",
       "</div>"
      ],
      "text/plain": [
       "                         \n",
       " Elevation(High)     0.15\n",
       " Elevation(Medium)   0.10\n",
       " Elevation(Low)      0.75"
      ]
     },
     "execution_count": 101,
     "metadata": {},
     "output_type": "execute_result"
    }
   ],
   "source": [
    "cpd_to_pandas(cpd_elevation)"
   ]
  },
  {
   "cell_type": "code",
   "execution_count": 102,
   "id": "98ca27ed",
   "metadata": {},
   "outputs": [
    {
     "data": {
      "text/html": [
       "<div>\n",
       "<style scoped>\n",
       "    .dataframe tbody tr th:only-of-type {\n",
       "        vertical-align: middle;\n",
       "    }\n",
       "\n",
       "    .dataframe tbody tr th {\n",
       "        vertical-align: top;\n",
       "    }\n",
       "\n",
       "    .dataframe thead th {\n",
       "        text-align: right;\n",
       "    }\n",
       "</style>\n",
       "<table border=\"1\" class=\"dataframe\">\n",
       "  <thead>\n",
       "    <tr style=\"text-align: right;\">\n",
       "      <th></th>\n",
       "      <th>Elevation(High)</th>\n",
       "      <th>Elevation(Medium)</th>\n",
       "      <th>Elevation(Low)</th>\n",
       "    </tr>\n",
       "  </thead>\n",
       "  <tbody>\n",
       "    <tr>\n",
       "      <th>Slope(Steep)</th>\n",
       "      <td>0.75</td>\n",
       "      <td>0.6</td>\n",
       "      <td>0.05</td>\n",
       "    </tr>\n",
       "    <tr>\n",
       "      <th>Slope(Flat)</th>\n",
       "      <td>0.25</td>\n",
       "      <td>0.4</td>\n",
       "      <td>0.95</td>\n",
       "    </tr>\n",
       "  </tbody>\n",
       "</table>\n",
       "</div>"
      ],
      "text/plain": [
       "                 Elevation(High)    Elevation(Medium)    Elevation(Low) \n",
       " Slope(Steep)                0.75                  0.6              0.05\n",
       " Slope(Flat)                 0.25                  0.4              0.95"
      ]
     },
     "execution_count": 102,
     "metadata": {},
     "output_type": "execute_result"
    }
   ],
   "source": [
    "cpd_to_pandas(cpd_slope)"
   ]
  },
  {
   "cell_type": "code",
   "execution_count": 103,
   "id": "0053c6c0",
   "metadata": {},
   "outputs": [
    {
     "data": {
      "text/html": [
       "<div>\n",
       "<style scoped>\n",
       "    .dataframe tbody tr th:only-of-type {\n",
       "        vertical-align: middle;\n",
       "    }\n",
       "\n",
       "    .dataframe tbody tr th {\n",
       "        vertical-align: top;\n",
       "    }\n",
       "\n",
       "    .dataframe thead th {\n",
       "        text-align: right;\n",
       "    }\n",
       "</style>\n",
       "<table border=\"1\" class=\"dataframe\">\n",
       "  <thead>\n",
       "    <tr style=\"text-align: right;\">\n",
       "      <th></th>\n",
       "      <th></th>\n",
       "    </tr>\n",
       "  </thead>\n",
       "  <tbody>\n",
       "    <tr>\n",
       "      <th>Rainfall frequency(Frequent)</th>\n",
       "      <td>0.3</td>\n",
       "    </tr>\n",
       "    <tr>\n",
       "      <th>Rainfall frequency(Medium)</th>\n",
       "      <td>0.6</td>\n",
       "    </tr>\n",
       "    <tr>\n",
       "      <th>Rainfall frequency(Rare)</th>\n",
       "      <td>0.1</td>\n",
       "    </tr>\n",
       "  </tbody>\n",
       "</table>\n",
       "</div>"
      ],
      "text/plain": [
       "                                   \n",
       " Rainfall frequency(Frequent)   0.3\n",
       " Rainfall frequency(Medium)     0.6\n",
       " Rainfall frequency(Rare)       0.1"
      ]
     },
     "execution_count": 103,
     "metadata": {},
     "output_type": "execute_result"
    }
   ],
   "source": [
    "cpd_to_pandas(cpd_rainfall_frequency)"
   ]
  },
  {
   "cell_type": "code",
   "execution_count": 104,
   "id": "76af000d",
   "metadata": {},
   "outputs": [
    {
     "data": {
      "text/html": [
       "<div>\n",
       "<style scoped>\n",
       "    .dataframe tbody tr th:only-of-type {\n",
       "        vertical-align: middle;\n",
       "    }\n",
       "\n",
       "    .dataframe tbody tr th {\n",
       "        vertical-align: top;\n",
       "    }\n",
       "\n",
       "    .dataframe thead th {\n",
       "        text-align: right;\n",
       "    }\n",
       "</style>\n",
       "<table border=\"1\" class=\"dataframe\">\n",
       "  <thead>\n",
       "    <tr style=\"text-align: right;\">\n",
       "      <th></th>\n",
       "      <th></th>\n",
       "    </tr>\n",
       "  </thead>\n",
       "  <tbody>\n",
       "    <tr>\n",
       "      <th>River density(Dense)</th>\n",
       "      <td>0.4</td>\n",
       "    </tr>\n",
       "    <tr>\n",
       "      <th>River density(Sparse)</th>\n",
       "      <td>0.6</td>\n",
       "    </tr>\n",
       "  </tbody>\n",
       "</table>\n",
       "</div>"
      ],
      "text/plain": [
       "                            \n",
       " River density(Dense)    0.4\n",
       " River density(Sparse)   0.6"
      ]
     },
     "execution_count": 104,
     "metadata": {},
     "output_type": "execute_result"
    }
   ],
   "source": [
    "cpd_to_pandas(cpd_river_density)"
   ]
  },
  {
   "cell_type": "code",
   "execution_count": 105,
   "id": "d45e3222",
   "metadata": {},
   "outputs": [
    {
     "data": {
      "text/html": [
       "<div>\n",
       "<style scoped>\n",
       "    .dataframe tbody tr th:only-of-type {\n",
       "        vertical-align: middle;\n",
       "    }\n",
       "\n",
       "    .dataframe tbody tr th {\n",
       "        vertical-align: top;\n",
       "    }\n",
       "\n",
       "    .dataframe thead tr th {\n",
       "        text-align: left;\n",
       "    }\n",
       "</style>\n",
       "<table border=\"1\" class=\"dataframe\">\n",
       "  <thead>\n",
       "    <tr>\n",
       "      <th></th>\n",
       "      <th colspan=\"2\" halign=\"left\">Rainfall frequency(Frequent)</th>\n",
       "      <th colspan=\"2\" halign=\"left\">Rainfall frequency(Medium)</th>\n",
       "      <th colspan=\"2\" halign=\"left\">Rainfall frequency(Rare)</th>\n",
       "    </tr>\n",
       "    <tr>\n",
       "      <th></th>\n",
       "      <th>River density(Dense)</th>\n",
       "      <th>River density(Sparse)</th>\n",
       "      <th>River density(Dense)</th>\n",
       "      <th>River density(Sparse)</th>\n",
       "      <th>River density(Dense)</th>\n",
       "      <th>River density(Sparse)</th>\n",
       "    </tr>\n",
       "  </thead>\n",
       "  <tbody>\n",
       "    <tr>\n",
       "      <th>Rainfall amount(Huge)</th>\n",
       "      <td>0.7</td>\n",
       "      <td>0.50</td>\n",
       "      <td>0.55</td>\n",
       "      <td>0.3</td>\n",
       "      <td>0.1</td>\n",
       "      <td>0.01</td>\n",
       "    </tr>\n",
       "    <tr>\n",
       "      <th>Rainfall amount(Medium)</th>\n",
       "      <td>0.2</td>\n",
       "      <td>0.25</td>\n",
       "      <td>0.30</td>\n",
       "      <td>0.4</td>\n",
       "      <td>0.3</td>\n",
       "      <td>0.04</td>\n",
       "    </tr>\n",
       "    <tr>\n",
       "      <th>Rainfall amount(Little)</th>\n",
       "      <td>0.1</td>\n",
       "      <td>0.25</td>\n",
       "      <td>0.15</td>\n",
       "      <td>0.3</td>\n",
       "      <td>0.6</td>\n",
       "      <td>0.95</td>\n",
       "    </tr>\n",
       "  </tbody>\n",
       "</table>\n",
       "</div>"
      ],
      "text/plain": [
       "                           Rainfall frequency(Frequent)   \\\n",
       "                           River density(Dense)            \n",
       " Rainfall amount(Huge)                               0.7   \n",
       " Rainfall amount(Medium)                             0.2   \n",
       " Rainfall amount(Little)                             0.1   \n",
       "\n",
       "                                                          \\\n",
       "                           River density(Sparse)           \n",
       " Rainfall amount(Huge)                              0.50   \n",
       " Rainfall amount(Medium)                            0.25   \n",
       " Rainfall amount(Little)                            0.25   \n",
       "\n",
       "                           Rainfall frequency(Medium)   \\\n",
       "                           River density(Dense)          \n",
       " Rainfall amount(Huge)                            0.55   \n",
       " Rainfall amount(Medium)                          0.30   \n",
       " Rainfall amount(Little)                          0.15   \n",
       "\n",
       "                                                        \\\n",
       "                           River density(Sparse)         \n",
       " Rainfall amount(Huge)                             0.3   \n",
       " Rainfall amount(Medium)                           0.4   \n",
       " Rainfall amount(Little)                           0.3   \n",
       "\n",
       "                           Rainfall frequency(Rare)   \\\n",
       "                           River density(Dense)        \n",
       " Rainfall amount(Huge)                           0.1   \n",
       " Rainfall amount(Medium)                         0.3   \n",
       " Rainfall amount(Little)                         0.6   \n",
       "\n",
       "                                                      \n",
       "                           River density(Sparse)      \n",
       " Rainfall amount(Huge)                          0.01  \n",
       " Rainfall amount(Medium)                        0.04  \n",
       " Rainfall amount(Little)                        0.95  "
      ]
     },
     "execution_count": 105,
     "metadata": {},
     "output_type": "execute_result"
    }
   ],
   "source": [
    "cpd_to_pandas(cpd_rainfall_amount)"
   ]
  },
  {
   "cell_type": "code",
   "execution_count": 106,
   "id": "87f0313e",
   "metadata": {
    "scrolled": true
   },
   "outputs": [
    {
     "data": {
      "text/html": [
       "<div>\n",
       "<style scoped>\n",
       "    .dataframe tbody tr th:only-of-type {\n",
       "        vertical-align: middle;\n",
       "    }\n",
       "\n",
       "    .dataframe tbody tr th {\n",
       "        vertical-align: top;\n",
       "    }\n",
       "\n",
       "    .dataframe thead tr th {\n",
       "        text-align: left;\n",
       "    }\n",
       "</style>\n",
       "<table border=\"1\" class=\"dataframe\">\n",
       "  <thead>\n",
       "    <tr>\n",
       "      <th></th>\n",
       "      <th>Road density(Dense)</th>\n",
       "      <th colspan=\"2\" halign=\"left\">Road density(Dense)</th>\n",
       "      <th>Road density(Dense)</th>\n",
       "      <th colspan=\"2\" halign=\"left\">Road density(Dense)</th>\n",
       "      <th>Road density(Medium)</th>\n",
       "      <th colspan=\"2\" halign=\"left\">Road density(Medium)</th>\n",
       "      <th>Road density(Medium)</th>\n",
       "      <th colspan=\"2\" halign=\"left\">Road density(Medium)</th>\n",
       "      <th>Road density(Sparse)</th>\n",
       "      <th colspan=\"2\" halign=\"left\">Road density(Sparse)</th>\n",
       "      <th>Road density(Sparse)</th>\n",
       "      <th colspan=\"2\" halign=\"left\">Road density(Sparse)</th>\n",
       "    </tr>\n",
       "    <tr>\n",
       "      <th></th>\n",
       "      <th>Slope(Steep)</th>\n",
       "      <th colspan=\"2\" halign=\"left\">Slope(Steep)</th>\n",
       "      <th>Slope(Flat)</th>\n",
       "      <th colspan=\"2\" halign=\"left\">Slope(Flat)</th>\n",
       "      <th>Slope(Steep)</th>\n",
       "      <th colspan=\"2\" halign=\"left\">Slope(Steep)</th>\n",
       "      <th>Slope(Flat)</th>\n",
       "      <th colspan=\"2\" halign=\"left\">Slope(Flat)</th>\n",
       "      <th>Slope(Steep)</th>\n",
       "      <th colspan=\"2\" halign=\"left\">Slope(Steep)</th>\n",
       "      <th>Slope(Flat)</th>\n",
       "      <th colspan=\"2\" halign=\"left\">Slope(Flat)</th>\n",
       "    </tr>\n",
       "    <tr>\n",
       "      <th></th>\n",
       "      <th>Rainfall amount(Huge)</th>\n",
       "      <th>Rainfall amount(Medium)</th>\n",
       "      <th>Rainfall amount(Little)</th>\n",
       "      <th>Rainfall amount(Huge)</th>\n",
       "      <th>Rainfall amount(Medium)</th>\n",
       "      <th>Rainfall amount(Little)</th>\n",
       "      <th>Rainfall amount(Huge)</th>\n",
       "      <th>Rainfall amount(Medium)</th>\n",
       "      <th>Rainfall amount(Little)</th>\n",
       "      <th>Rainfall amount(Huge)</th>\n",
       "      <th>Rainfall amount(Medium)</th>\n",
       "      <th>Rainfall amount(Little)</th>\n",
       "      <th>Rainfall amount(Huge)</th>\n",
       "      <th>Rainfall amount(Medium)</th>\n",
       "      <th>Rainfall amount(Little)</th>\n",
       "      <th>Rainfall amount(Huge)</th>\n",
       "      <th>Rainfall amount(Medium)</th>\n",
       "      <th>Rainfall amount(Little)</th>\n",
       "    </tr>\n",
       "  </thead>\n",
       "  <tbody>\n",
       "    <tr>\n",
       "      <th>Flood(Yes)</th>\n",
       "      <td>0.07</td>\n",
       "      <td>0.03</td>\n",
       "      <td>0.005</td>\n",
       "      <td>0.2</td>\n",
       "      <td>0.1</td>\n",
       "      <td>0.008</td>\n",
       "      <td>0.05</td>\n",
       "      <td>0.009</td>\n",
       "      <td>0.0005</td>\n",
       "      <td>0.13</td>\n",
       "      <td>0.08</td>\n",
       "      <td>0.006</td>\n",
       "      <td>0.008</td>\n",
       "      <td>0.002</td>\n",
       "      <td>0.0001</td>\n",
       "      <td>0.1</td>\n",
       "      <td>0.04</td>\n",
       "      <td>0.0002</td>\n",
       "    </tr>\n",
       "    <tr>\n",
       "      <th>Flood(No)</th>\n",
       "      <td>0.93</td>\n",
       "      <td>0.97</td>\n",
       "      <td>0.995</td>\n",
       "      <td>0.8</td>\n",
       "      <td>0.9</td>\n",
       "      <td>0.992</td>\n",
       "      <td>0.95</td>\n",
       "      <td>0.991</td>\n",
       "      <td>0.9995</td>\n",
       "      <td>0.87</td>\n",
       "      <td>0.92</td>\n",
       "      <td>0.994</td>\n",
       "      <td>0.992</td>\n",
       "      <td>0.998</td>\n",
       "      <td>0.9999</td>\n",
       "      <td>0.9</td>\n",
       "      <td>0.96</td>\n",
       "      <td>0.9998</td>\n",
       "    </tr>\n",
       "  </tbody>\n",
       "</table>\n",
       "</div>"
      ],
      "text/plain": [
       "                   Road density(Dense)     Road density(Dense)       \\\n",
       "                   Slope(Steep)            Slope(Steep)               \n",
       "                   Rainfall amount(Huge)   Rainfall amount(Medium)    \n",
       " Flood(Yes)                          0.07                      0.03   \n",
       " Flood(No)                           0.93                      0.97   \n",
       "\n",
       "                                             Road density(Dense)     \\\n",
       "                                             Slope(Flat)              \n",
       "                   Rainfall amount(Little)   Rainfall amount(Huge)    \n",
       " Flood(Yes)                           0.005                     0.2   \n",
       " Flood(No)                            0.995                     0.8   \n",
       "\n",
       "                   Road density(Dense)                                 \\\n",
       "                   Slope(Flat)                                          \n",
       "                   Rainfall amount(Medium)   Rainfall amount(Little)    \n",
       " Flood(Yes)                             0.1                     0.008   \n",
       " Flood(No)                              0.9                     0.992   \n",
       "\n",
       "                   Road density(Medium)    Road density(Medium)      \\\n",
       "                   Slope(Steep)            Slope(Steep)               \n",
       "                   Rainfall amount(Huge)   Rainfall amount(Medium)    \n",
       " Flood(Yes)                          0.05                     0.009   \n",
       " Flood(No)                           0.95                     0.991   \n",
       "\n",
       "                                             Road density(Medium)    \\\n",
       "                                             Slope(Flat)              \n",
       "                   Rainfall amount(Little)   Rainfall amount(Huge)    \n",
       " Flood(Yes)                          0.0005                    0.13   \n",
       " Flood(No)                           0.9995                    0.87   \n",
       "\n",
       "                   Road density(Medium)                                \\\n",
       "                   Slope(Flat)                                          \n",
       "                   Rainfall amount(Medium)   Rainfall amount(Little)    \n",
       " Flood(Yes)                            0.08                     0.006   \n",
       " Flood(No)                             0.92                     0.994   \n",
       "\n",
       "                   Road density(Sparse)    Road density(Sparse)      \\\n",
       "                   Slope(Steep)            Slope(Steep)               \n",
       "                   Rainfall amount(Huge)   Rainfall amount(Medium)    \n",
       " Flood(Yes)                         0.008                     0.002   \n",
       " Flood(No)                          0.992                     0.998   \n",
       "\n",
       "                                             Road density(Sparse)    \\\n",
       "                                             Slope(Flat)              \n",
       "                   Rainfall amount(Little)   Rainfall amount(Huge)    \n",
       " Flood(Yes)                          0.0001                     0.1   \n",
       " Flood(No)                           0.9999                     0.9   \n",
       "\n",
       "                   Road density(Sparse)                                \n",
       "                   Slope(Flat)                                         \n",
       "                   Rainfall amount(Medium)   Rainfall amount(Little)   \n",
       " Flood(Yes)                            0.04                    0.0002  \n",
       " Flood(No)                             0.96                    0.9998  "
      ]
     },
     "execution_count": 106,
     "metadata": {},
     "output_type": "execute_result"
    }
   ],
   "source": [
    "cpd_to_pandas(cpd_flood)"
   ]
  },
  {
   "cell_type": "code",
   "execution_count": 107,
   "id": "50a6b360",
   "metadata": {},
   "outputs": [
    {
     "name": "stdout",
     "output_type": "stream",
     "text": [
      "Independecies given the parent nodes shown using the function local_independencies():\n"
     ]
    },
    {
     "data": {
      "text/plain": [
       "(Per unit GDP ⟂ Elevation, Rainfall frequency, River density, Slope, Rainfall amount)\n",
       "(Road density ⟂ Elevation, Rainfall frequency, River density, Slope, Rainfall amount | Population density, Per unit GDP)\n",
       "(Population density ⟂ Elevation, Rainfall frequency, River density, Slope, Rainfall amount | Per unit GDP)\n",
       "(Elevation ⟂ Population density, Per unit GDP, Rainfall frequency, River density, Road density, Rainfall amount)\n",
       "(Slope ⟂ Population density, Per unit GDP, Rainfall frequency, River density, Road density, Rainfall amount | Elevation)\n",
       "(Rainfall frequency ⟂ Road density, Elevation, Population density, Per unit GDP, River density, Slope)\n",
       "(River density ⟂ Road density, Elevation, Population density, Per unit GDP, Rainfall frequency, Slope)\n",
       "(Rainfall amount ⟂ Slope, Elevation, Population density, Per unit GDP, Road density | Rainfall frequency, River density)\n",
       "(Flood ⟂ Elevation, Population density, Per unit GDP, Rainfall frequency, River density | Slope, Road density, Rainfall amount)"
      ]
     },
     "execution_count": 107,
     "metadata": {},
     "output_type": "execute_result"
    }
   ],
   "source": [
    "# Getting all the independencies given the parent nodes in the network.\n",
    "print('Independecies given the parent nodes shown using the function local_independencies():')\n",
    "model.local_independencies(variables)"
   ]
  },
  {
   "cell_type": "code",
   "execution_count": 108,
   "id": "04577937",
   "metadata": {},
   "outputs": [
    {
     "name": "stdout",
     "output_type": "stream",
     "text": [
      "{'Per unit GDP': {'Population density', 'Flood', 'Road density', 'Per unit GDP'}}\n",
      "{'Road density': {'Population density', 'Flood', 'Road density', 'Per unit GDP'}}\n",
      "{'Population density': {'Population density', 'Flood', 'Road density', 'Per unit GDP'}}\n",
      "{'Elevation': {'Elevation', 'Flood', 'Slope'}}\n",
      "{'Slope': {'Elevation', 'Flood', 'Slope'}}\n",
      "{'Rainfall frequency': {'Rainfall frequency', 'Flood', 'Rainfall amount'}}\n",
      "{'River density': {'River density', 'Flood', 'Rainfall amount'}}\n",
      "{'Rainfall amount': {'Rainfall frequency', 'River density', 'Flood', 'Rainfall amount'}}\n",
      "{'Flood': {'Population density', 'River density', 'Flood', 'Road density', 'Slope', 'Rainfall amount', 'Elevation', 'Per unit GDP', 'Rainfall frequency'}}\n"
     ]
    }
   ],
   "source": [
    "for v in variables:\n",
    "    print(model.active_trail_nodes(v))"
   ]
  },
  {
   "cell_type": "code",
   "execution_count": 109,
   "id": "5b41fbb0",
   "metadata": {},
   "outputs": [
    {
     "data": {
      "text/plain": [
       "{'River density': {'Rainfall frequency', 'River density'}}"
      ]
     },
     "execution_count": 109,
     "metadata": {},
     "output_type": "execute_result"
    }
   ],
   "source": [
    "# v- structure activated from the evidence therefore river density \n",
    "# influences rainfall frequency because rainfall amount is in the evidence\n",
    "model.active_trail_nodes(RIVER_DENSITY, observed=RAINFALL_AMOUNT)"
   ]
  },
  {
   "cell_type": "code",
   "execution_count": 110,
   "id": "386d3040",
   "metadata": {},
   "outputs": [
    {
     "name": "stdout",
     "output_type": "stream",
     "text": [
      "{'Population density': {'Population density'}}\n",
      "{'Population density': {'Population density'}}\n"
     ]
    }
   ],
   "source": [
    "print(model.active_trail_nodes(POPULATION_DENSITY, observed=[ROAD_DENSITY, PER_UNIT_GDP]))\n",
    "print(model.active_trail_nodes(POPULATION_DENSITY, observed=[ROAD_DENSITY, PER_UNIT_GDP]))"
   ]
  },
  {
   "cell_type": "code",
   "execution_count": 111,
   "id": "b6fa3b13",
   "metadata": {},
   "outputs": [
    {
     "data": {
      "text/plain": [
       "['Road density', 'Per unit GDP']"
      ]
     },
     "execution_count": 111,
     "metadata": {},
     "output_type": "execute_result"
    }
   ],
   "source": [
    "model.get_markov_blanket(POPULATION_DENSITY)"
   ]
  },
  {
   "cell_type": "code",
   "execution_count": 112,
   "id": "9f984e4d",
   "metadata": {},
   "outputs": [
    {
     "name": "stdout",
     "output_type": "stream",
     "text": [
      "{'Per unit GDP': {'Per unit GDP'}}\n",
      "Given ['Population density', 'Road density']\n",
      "\n",
      "{'Road density': {'Road density'}}\n",
      "Given ['Population density', 'Flood', 'Slope', 'Rainfall amount', 'Per unit GDP']\n",
      "\n",
      "{'Population density': {'Population density'}}\n",
      "Given ['Road density', 'Per unit GDP']\n",
      "\n",
      "{'Elevation': {'Elevation'}}\n",
      "Given ['Slope']\n",
      "\n",
      "{'Slope': {'Slope'}}\n",
      "Given ['Flood', 'Road density', 'Rainfall amount', 'Elevation']\n",
      "\n",
      "{'Rainfall frequency': {'Rainfall frequency'}}\n",
      "Given ['River density', 'Rainfall amount']\n",
      "\n",
      "{'River density': {'River density'}}\n",
      "Given ['Rainfall frequency', 'Rainfall amount']\n",
      "\n",
      "{'Rainfall amount': {'Rainfall amount'}}\n",
      "Given ['River density', 'Flood', 'Slope', 'Road density', 'Rainfall frequency']\n",
      "\n",
      "{'Flood': {'Flood'}}\n",
      "Given ['Slope', 'Road density', 'Rainfall amount']\n",
      "\n"
     ]
    }
   ],
   "source": [
    "for v in variables:\n",
    "    markov_blanket = model.get_markov_blanket(v)\n",
    "    print(model.active_trail_nodes(v, observed=markov_blanket))\n",
    "    print('Given {}'.format(markov_blanket))\n",
    "    print()"
   ]
  },
  {
   "cell_type": "markdown",
   "id": "0a807aaf",
   "metadata": {},
   "source": [
    "### Exact inference"
   ]
  },
  {
   "cell_type": "code",
   "execution_count": 113,
   "id": "86ffd051",
   "metadata": {},
   "outputs": [],
   "source": [
    "exact_infer = VariableElimination(model)"
   ]
  },
  {
   "cell_type": "markdown",
   "id": "9a89e8a9",
   "metadata": {},
   "source": [
    "**P(Flood)**"
   ]
  },
  {
   "cell_type": "code",
   "execution_count": 114,
   "id": "aaf9002b",
   "metadata": {},
   "outputs": [
    {
     "name": "stdout",
     "output_type": "stream",
     "text": [
      "+------------+--------------+\n",
      "| Flood      |   phi(Flood) |\n",
      "+============+==============+\n",
      "| Flood(Yes) |       0.0785 |\n",
      "+------------+--------------+\n",
      "| Flood(No)  |       0.9215 |\n",
      "+------------+--------------+\n"
     ]
    }
   ],
   "source": [
    "print(exact_infer.query([FLOOD], show_progress=False))"
   ]
  },
  {
   "cell_type": "markdown",
   "id": "49d1d9c7",
   "metadata": {},
   "source": [
    "**P(Flood | Road density = Dense, Slope = Flat)**"
   ]
  },
  {
   "cell_type": "code",
   "execution_count": 115,
   "id": "d050379b",
   "metadata": {},
   "outputs": [
    {
     "name": "stdout",
     "output_type": "stream",
     "text": [
      "+------------+--------------+\n",
      "| Flood      |   phi(Flood) |\n",
      "+============+==============+\n",
      "| Flood(Yes) |       0.1159 |\n",
      "+------------+--------------+\n",
      "| Flood(No)  |       0.8841 |\n",
      "+------------+--------------+\n"
     ]
    }
   ],
   "source": [
    "print(exact_infer.query([FLOOD], evidence={ROAD_DENSITY: 'Dense', SLOPE: 'Flat'}, show_progress=False))"
   ]
  },
  {
   "cell_type": "markdown",
   "id": "10df594f",
   "metadata": {},
   "source": [
    "**P(Flood | Road density = Dense, Slope = Flat, Rainfall Frequency = Frequent)**"
   ]
  },
  {
   "cell_type": "code",
   "execution_count": 116,
   "id": "a064776b",
   "metadata": {
    "scrolled": false
   },
   "outputs": [
    {
     "name": "stdout",
     "output_type": "stream",
     "text": [
      "+------------+--------------+\n",
      "| Flood      |   phi(Flood) |\n",
      "+============+==============+\n",
      "| Flood(Yes) |       0.1405 |\n",
      "+------------+--------------+\n",
      "| Flood(No)  |       0.8595 |\n",
      "+------------+--------------+\n"
     ]
    }
   ],
   "source": [
    "print(exact_infer.query([FLOOD], evidence={ROAD_DENSITY: 'Dense', SLOPE: 'Flat', RAINFALL_FREQUENCY: 'Frequent'}, show_progress=False))"
   ]
  },
  {
   "cell_type": "markdown",
   "id": "282ed12a",
   "metadata": {},
   "source": [
    "**P(Flood | Road density = Medium, Slope = Flat, Rainfall Frequency = Frequent)**"
   ]
  },
  {
   "cell_type": "code",
   "execution_count": 117,
   "id": "fb363282",
   "metadata": {
    "scrolled": false
   },
   "outputs": [
    {
     "name": "stdout",
     "output_type": "stream",
     "text": [
      "+------------+--------------+\n",
      "| Flood      |   phi(Flood) |\n",
      "+============+==============+\n",
      "| Flood(Yes) |       0.0949 |\n",
      "+------------+--------------+\n",
      "| Flood(No)  |       0.9051 |\n",
      "+------------+--------------+\n"
     ]
    }
   ],
   "source": [
    "print(exact_infer.query([FLOOD], evidence={ROAD_DENSITY: 'Medium', SLOPE: 'Flat', RAINFALL_FREQUENCY: 'Frequent'}, show_progress=False))"
   ]
  },
  {
   "cell_type": "markdown",
   "id": "2d80d7ef",
   "metadata": {},
   "source": [
    "**P(Flood | Road density = Dense, Slope = Steep, Rainfall Frequency = Frequent)**"
   ]
  },
  {
   "cell_type": "code",
   "execution_count": 118,
   "id": "e8bc7bc7",
   "metadata": {
    "scrolled": false
   },
   "outputs": [
    {
     "name": "stdout",
     "output_type": "stream",
     "text": [
      "+------------+--------------+\n",
      "| Flood      |   phi(Flood) |\n",
      "+============+==============+\n",
      "| Flood(Yes) |       0.0485 |\n",
      "+------------+--------------+\n",
      "| Flood(No)  |       0.9516 |\n",
      "+------------+--------------+\n"
     ]
    }
   ],
   "source": [
    "print(exact_infer.query([FLOOD], evidence={ROAD_DENSITY: 'Dense', SLOPE: 'Steep', RAINFALL_FREQUENCY: 'Frequent'}, show_progress=False))"
   ]
  },
  {
   "cell_type": "markdown",
   "id": "4a300c7d",
   "metadata": {},
   "source": [
    "**P(Slope | Flood = Yes)**"
   ]
  },
  {
   "cell_type": "code",
   "execution_count": 119,
   "id": "a0c0ae4f",
   "metadata": {},
   "outputs": [
    {
     "name": "stdout",
     "output_type": "stream",
     "text": [
      "+--------------+--------------+\n",
      "| Slope        |   phi(Slope) |\n",
      "+==============+==============+\n",
      "| Slope(Steep) |       0.0736 |\n",
      "+--------------+--------------+\n",
      "| Slope(Flat)  |       0.9264 |\n",
      "+--------------+--------------+\n"
     ]
    }
   ],
   "source": [
    "print(exact_infer.query([SLOPE], evidence={FLOOD: 'Yes'}, show_progress=False))"
   ]
  },
  {
   "cell_type": "markdown",
   "id": "2c7d1c96",
   "metadata": {},
   "source": [
    "**P(Rainfall Amount | Flood = Yes)**"
   ]
  },
  {
   "cell_type": "code",
   "execution_count": 120,
   "id": "03aa7a23",
   "metadata": {},
   "outputs": [
    {
     "name": "stdout",
     "output_type": "stream",
     "text": [
      "+-------------------------+------------------------+\n",
      "| Rainfall amount         |   phi(Rainfall amount) |\n",
      "+=========================+========================+\n",
      "| Rainfall amount(Huge)   |                 0.7210 |\n",
      "+-------------------------+------------------------+\n",
      "| Rainfall amount(Medium) |                 0.2605 |\n",
      "+-------------------------+------------------------+\n",
      "| Rainfall amount(Little) |                 0.0185 |\n",
      "+-------------------------+------------------------+\n"
     ]
    }
   ],
   "source": [
    "print(exact_infer.query([RAINFALL_AMOUNT], evidence={FLOOD: 'Yes'}, show_progress=False))"
   ]
  },
  {
   "cell_type": "markdown",
   "id": "d0b9150b",
   "metadata": {},
   "source": [
    "**P(Rainfall Frequency | Rainfall Amount = Huge)**"
   ]
  },
  {
   "cell_type": "code",
   "execution_count": 121,
   "id": "efcb1f5d",
   "metadata": {},
   "outputs": [
    {
     "name": "stdout",
     "output_type": "stream",
     "text": [
      "+------------------------------+---------------------------+\n",
      "| Rainfall frequency           |   phi(Rainfall frequency) |\n",
      "+==============================+===========================+\n",
      "| Rainfall frequency(Frequent) |                    0.4157 |\n",
      "+------------------------------+---------------------------+\n",
      "| Rainfall frequency(Medium)   |                    0.5733 |\n",
      "+------------------------------+---------------------------+\n",
      "| Rainfall frequency(Rare)     |                    0.0110 |\n",
      "+------------------------------+---------------------------+\n"
     ]
    }
   ],
   "source": [
    "print(exact_infer.query([RAINFALL_FREQUENCY], evidence={RAINFALL_AMOUNT: 'Huge'}, show_progress=False))"
   ]
  },
  {
   "cell_type": "markdown",
   "id": "8f1db13a",
   "metadata": {},
   "source": [
    "**P(Rainfall Frequency | Rainfall Amount = Huge)**"
   ]
  },
  {
   "cell_type": "code",
   "execution_count": 128,
   "id": "b0bd546d",
   "metadata": {},
   "outputs": [
    {
     "name": "stdout",
     "output_type": "stream",
     "text": [
      "+------------------------------+---------------------------+\n",
      "| Rainfall frequency           |   phi(Rainfall frequency) |\n",
      "+==============================+===========================+\n",
      "| Rainfall frequency(Frequent) |                    0.2021 |\n",
      "+------------------------------+---------------------------+\n",
      "| Rainfall frequency(Medium)   |                    0.5106 |\n",
      "+------------------------------+---------------------------+\n",
      "| Rainfall frequency(Rare)     |                    0.2872 |\n",
      "+------------------------------+---------------------------+\n"
     ]
    }
   ],
   "source": [
    "print(exact_infer.query([RAINFALL_FREQUENCY], evidence={RAINFALL_AMOUNT: 'Little'}, show_progress=False))"
   ]
  },
  {
   "cell_type": "code",
   "execution_count": 125,
   "id": "61c74e4f",
   "metadata": {},
   "outputs": [
    {
     "name": "stdout",
     "output_type": "stream",
     "text": [
      "+-----------------------+----------------------+\n",
      "| River density         |   phi(River density) |\n",
      "+=======================+======================+\n",
      "| River density(Dense)  |               0.5256 |\n",
      "+-----------------------+----------------------+\n",
      "| River density(Sparse) |               0.4744 |\n",
      "+-----------------------+----------------------+\n"
     ]
    }
   ],
   "source": [
    "#print(exact_infer.query([RIVER_DENSITY], evidence={RAINFALL_AMOUNT: 'Huge'}, show_progress=False))"
   ]
  },
  {
   "cell_type": "code",
   "execution_count": 132,
   "id": "cffc6dd5",
   "metadata": {},
   "outputs": [
    {
     "name": "stdout",
     "output_type": "stream",
     "text": [
      "+-------------------------+------------------------+\n",
      "| Rainfall amount         |   phi(Rainfall amount) |\n",
      "+=========================+========================+\n",
      "| Rainfall amount(Huge)   |                 0.4186 |\n",
      "+-------------------------+------------------------+\n",
      "| Rainfall amount(Medium) |                 0.2994 |\n",
      "+-------------------------+------------------------+\n",
      "| Rainfall amount(Little) |                 0.2820 |\n",
      "+-------------------------+------------------------+\n"
     ]
    }
   ],
   "source": [
    "print(exact_infer.query([RAINFALL_AMOUNT], show_progress=False))"
   ]
  },
  {
   "cell_type": "code",
   "execution_count": 133,
   "id": "24224479",
   "metadata": {},
   "outputs": [
    {
     "name": "stdout",
     "output_type": "stream",
     "text": [
      "+--------------+--------------+\n",
      "| Slope        |   phi(Slope) |\n",
      "+==============+==============+\n",
      "| Slope(Steep) |       0.2100 |\n",
      "+--------------+--------------+\n",
      "| Slope(Flat)  |       0.7900 |\n",
      "+--------------+--------------+\n"
     ]
    }
   ],
   "source": [
    "print(exact_infer.query([SLOPE], show_progress=False))"
   ]
  },
  {
   "cell_type": "code",
   "execution_count": null,
   "id": "28874eae",
   "metadata": {},
   "outputs": [],
   "source": []
  }
 ],
 "metadata": {
  "kernelspec": {
   "display_name": "Python 3 (ipykernel)",
   "language": "python",
   "name": "python3"
  },
  "language_info": {
   "codemirror_mode": {
    "name": "ipython",
    "version": 3
   },
   "file_extension": ".py",
   "mimetype": "text/x-python",
   "name": "python",
   "nbconvert_exporter": "python",
   "pygments_lexer": "ipython3",
   "version": "3.8.12"
  }
 },
 "nbformat": 4,
 "nbformat_minor": 5
}
